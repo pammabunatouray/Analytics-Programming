{
 "cells": [
  {
   "cell_type": "markdown",
   "metadata": {
    "id": "lN1bE03duXEt"
   },
   "source": [
    "# CIS 443-01 - Analytics Programming\n",
    "## Lab 3\n",
    "__Grading ID__: F0000 (double click the cell in Jupyter to edit, find ID in Blackboard Gradebook)<br>\n",
    "__Due__: Monday, September 19 (by 11:59 PM)<br />\n",
    "__Worth__: 25 pts."
   ]
  },
  {
   "cell_type": "markdown",
   "metadata": {
    "id": "P2g2ldwsuXEx"
   },
   "source": [
    "### Directions\n",
    "Exercise 4.9, p. 152 (Temperature Conversion) Implement a `fahrenheit` function that returns the Fahrenheit equivalent of a Celsius temperature. Use the following formula:<br />\n",
    "F = (9 / 5) * C + 32<br />\n",
    "Use this function to print a chart showing the Fahrenheit equivalents of all Celsius temperatures in the range 0–100 degrees. Use one digit of precision for the results. Print the outputs in a neat tabular format.<br />\n",
    "__Note__: Feel free to change the function's name to something more verb-oriented, such as `convert_C_to_F`. The function should only return the calculated Fahrenheit temperature - it is not asked to print the value. The output table is printed in the application code by calling the function repeatedly from within a counter-controlled loop.\n"
   ]
  },
  {
   "cell_type": "code",
   "execution_count": 2,
   "metadata": {
    "id": "BT0x-iUNuXEy"
   },
   "outputs": [],
   "source": [
    "#This code will output a celsius temerpature with it's farenheit equivalent\n",
    "def convert_C_to_F(celsius): # This is the function that will convert the celsius temperature to farenheit by using the following formula\n",
    "    F=(9/5)*celsius+32\n",
    "    return F"
   ]
  },
  {
   "cell_type": "code",
   "execution_count": 7,
   "metadata": {
    "id": "BT0x-iUNuXEy"
   },
   "outputs": [
    {
     "name": "stdout",
     "output_type": "stream",
     "text": [
      "0.0 C          32.0 F\n",
      "1.0 C          33.8 F\n",
      "2.0 C          35.6 F\n",
      "3.0 C          37.4 F\n",
      "4.0 C          39.2 F\n",
      "5.0 C          41.0 F\n",
      "6.0 C          42.8 F\n",
      "7.0 C          44.6 F\n",
      "8.0 C          46.4 F\n",
      "9.0 C          48.2 F\n",
      "10.0 C          50.0 F\n",
      "11.0 C          51.8 F\n",
      "12.0 C          53.6 F\n",
      "13.0 C          55.4 F\n",
      "14.0 C          57.2 F\n",
      "15.0 C          59.0 F\n",
      "16.0 C          60.8 F\n",
      "17.0 C          62.6 F\n",
      "18.0 C          64.4 F\n",
      "19.0 C          66.2 F\n",
      "20.0 C          68.0 F\n",
      "21.0 C          69.8 F\n",
      "22.0 C          71.6 F\n",
      "23.0 C          73.4 F\n",
      "24.0 C          75.2 F\n",
      "25.0 C          77.0 F\n",
      "26.0 C          78.8 F\n",
      "27.0 C          80.6 F\n",
      "28.0 C          82.4 F\n",
      "29.0 C          84.2 F\n",
      "30.0 C          86.0 F\n",
      "31.0 C          87.8 F\n",
      "32.0 C          89.6 F\n",
      "33.0 C          91.4 F\n",
      "34.0 C          93.2 F\n",
      "35.0 C          95.0 F\n",
      "36.0 C          96.8 F\n",
      "37.0 C          98.6 F\n",
      "38.0 C          100.4 F\n",
      "39.0 C          102.2 F\n",
      "40.0 C          104.0 F\n",
      "41.0 C          105.8 F\n",
      "42.0 C          107.6 F\n",
      "43.0 C          109.4 F\n",
      "44.0 C          111.2 F\n",
      "45.0 C          113.0 F\n",
      "46.0 C          114.8 F\n",
      "47.0 C          116.6 F\n",
      "48.0 C          118.4 F\n",
      "49.0 C          120.2 F\n",
      "50.0 C          122.0 F\n",
      "51.0 C          123.8 F\n",
      "52.0 C          125.6 F\n",
      "53.0 C          127.4 F\n",
      "54.0 C          129.2 F\n",
      "55.0 C          131.0 F\n",
      "56.0 C          132.8 F\n",
      "57.0 C          134.6 F\n",
      "58.0 C          136.4 F\n",
      "59.0 C          138.2 F\n",
      "60.0 C          140.0 F\n",
      "61.0 C          141.8 F\n",
      "62.0 C          143.6 F\n",
      "63.0 C          145.4 F\n",
      "64.0 C          147.2 F\n",
      "65.0 C          149.0 F\n",
      "66.0 C          150.8 F\n",
      "67.0 C          152.6 F\n",
      "68.0 C          154.4 F\n",
      "69.0 C          156.2 F\n",
      "70.0 C          158.0 F\n",
      "71.0 C          159.8 F\n",
      "72.0 C          161.6 F\n",
      "73.0 C          163.4 F\n",
      "74.0 C          165.2 F\n",
      "75.0 C          167.0 F\n",
      "76.0 C          168.8 F\n",
      "77.0 C          170.6 F\n",
      "78.0 C          172.4 F\n",
      "79.0 C          174.2 F\n",
      "80.0 C          176.0 F\n",
      "81.0 C          177.8 F\n",
      "82.0 C          179.6 F\n",
      "83.0 C          181.4 F\n",
      "84.0 C          183.2 F\n",
      "85.0 C          185.0 F\n",
      "86.0 C          186.8 F\n",
      "87.0 C          188.6 F\n",
      "88.0 C          190.4 F\n",
      "89.0 C          192.2 F\n",
      "90.0 C          194.0 F\n",
      "91.0 C          195.8 F\n",
      "92.0 C          197.6 F\n",
      "93.0 C          199.4 F\n",
      "94.0 C          201.2 F\n",
      "95.0 C          203.0 F\n",
      "96.0 C          204.8 F\n",
      "97.0 C          206.6 F\n",
      "98.0 C          208.4 F\n",
      "99.0 C          210.2 F\n"
     ]
    }
   ],
   "source": [
    "#Using the celsius argument we implement it into our code by returning its equivalent Farenheit Value\n",
    "for celsius in range (0,100): # Only numbers ranging from 0-100 degrees\n",
    "    F=convert_C_to_F(celsius) # Calling our function\n",
    "    print(f'{celsius:.1f} C          {F:.1f} F') #Formatting our print"
   ]
  },
  {
   "cell_type": "markdown",
   "metadata": {
    "id": "q8s79p9EuXEz"
   },
   "source": [
    "Be sure to save and exit your Jupyter Notebook and Shutdown Jupyter Lab (from the __File__ menu) if using Ananconda before you submit your notebook on Blackboard for grading. If using Colab, be sure to Download (from the __File__ menu) back to your local file system before submitting to Blackboard.\n",
    "Make sure you don't submit the empty starting notebook by accident."
   ]
  }
 ],
 "metadata": {
  "colab": {
   "collapsed_sections": [],
   "provenance": []
  },
  "kernelspec": {
   "display_name": "Python 3 (ipykernel)",
   "language": "python",
   "name": "python3"
  },
  "language_info": {
   "codemirror_mode": {
    "name": "ipython",
    "version": 3
   },
   "file_extension": ".py",
   "mimetype": "text/x-python",
   "name": "python",
   "nbconvert_exporter": "python",
   "pygments_lexer": "ipython3",
   "version": "3.9.13"
  }
 },
 "nbformat": 4,
 "nbformat_minor": 4
}
