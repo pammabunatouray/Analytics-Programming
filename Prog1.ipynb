{
 "cells": [
  {
   "cell_type": "markdown",
   "metadata": {
    "id": "GacMba-5t1SX"
   },
   "source": [
    "# CIS 443-01 - Analytics Programming\n",
    "## Program 1\n",
    "__Grading ID__: KPXXXX(double click the cell in Jupyter to edit)<br>\n",
    "__Due__: Friday, February 10 (by 11:59 PM)<br />\n",
    "__Worth__: 50 pts.<br />\n",
    "__Purpose__: Use a function and repetition control structure to demonstrate compounding interest."
   ]
  },
  {
   "cell_type": "markdown",
   "metadata": {
    "id": "WjernZjFt1Sa",
    "tags": []
   },
   "source": [
    "### Directions\n",
    "In the code cell below, write Python code to accomplish the following using what you've learned through Chapter 4. \n",
    "\n",
    "\n",
    "#### Part 1\n",
    "\n",
    "Your code should allow the user to enter three values: a principle balance, an interest rate, and a number of years. \n",
    "\n",
    "For simplicity's sake, we will compound our interest once per year. In order to do so, create a function interest_calculator with three inputs, corresponding to the user inputs. They should have the default values 10000, .09, and 10, respectively. \n",
    "\n",
    "Your formula to calculate the interest will be Balance(Year + 1) = Balance * (1 + interest rate)\n",
    "\n",
    "So for example, starting with 10,000 and a 5% interest rate, the formula is 10,000 * (1 + .05) = 10,500. The next year would be 10,500 * (1 + .05) = 11,025 and so on. \n",
    "\n",
    "Each year you will output the year number, and the value of the balance that year. \n"
   ]
  },
  {
   "cell_type": "code",
   "execution_count": 42,
   "metadata": {
    "id": "8ZZORCgut1Sb"
   },
   "outputs": [
    {
     "name": "stdin",
     "output_type": "stream",
     "text": [
      "Enter the principle balance:  10000\n",
      "Enter the interest rate:  .10\n",
      "Enter the number of years:  100\n"
     ]
    },
    {
     "name": "stdout",
     "output_type": "stream",
     "text": [
      "Year 0 compounded value is $10000.00\n",
      "Year 1 compounded value is $11000.00\n",
      "Year 2 compounded value is $12100.00\n",
      "Year 3 compounded value is $13310.00\n",
      "Year 4 compounded value is $14641.00\n",
      "Year 5 compounded value is $16105.10\n",
      "Year 6 compounded value is $17715.61\n",
      "Year 7 compounded value is $19487.17\n",
      "Year 8 compounded value is $21435.89\n",
      "Year 9 compounded value is $23579.48\n",
      "Year 10 compounded value is $25937.42\n",
      "Year 11 compounded value is $28531.17\n",
      "Year 12 compounded value is $31384.28\n",
      "Year 13 compounded value is $34522.71\n",
      "Year 14 compounded value is $37974.98\n",
      "Year 15 compounded value is $41772.48\n",
      "Year 16 compounded value is $45949.73\n",
      "Year 17 compounded value is $50544.70\n",
      "Year 18 compounded value is $55599.17\n",
      "Year 19 compounded value is $61159.09\n",
      "Year 20 compounded value is $67275.00\n",
      "Year 21 compounded value is $74002.50\n",
      "Year 22 compounded value is $81402.75\n",
      "Year 23 compounded value is $89543.02\n",
      "Year 24 compounded value is $98497.33\n",
      "Year 25 compounded value is $108347.06\n",
      "Year 26 compounded value is $119181.77\n",
      "Year 27 compounded value is $131099.94\n",
      "Year 28 compounded value is $144209.94\n",
      "Year 29 compounded value is $158630.93\n",
      "Year 30 compounded value is $174494.02\n",
      "Year 31 compounded value is $191943.42\n",
      "Year 32 compounded value is $211137.77\n",
      "Year 33 compounded value is $232251.54\n",
      "Year 34 compounded value is $255476.70\n",
      "Year 35 compounded value is $281024.37\n",
      "Year 36 compounded value is $309126.81\n",
      "Year 37 compounded value is $340039.49\n",
      "Year 38 compounded value is $374043.43\n",
      "Year 39 compounded value is $411447.78\n",
      "Year 40 compounded value is $452592.56\n",
      "Year 41 compounded value is $497851.81\n",
      "Year 42 compounded value is $547636.99\n",
      "Year 43 compounded value is $602400.69\n",
      "Year 44 compounded value is $662640.76\n",
      "Year 45 compounded value is $728904.84\n",
      "Year 46 compounded value is $801795.32\n",
      "Year 47 compounded value is $881974.85\n",
      "Year 48 compounded value is $970172.34\n",
      "Year 49 compounded value is $1067189.57\n",
      "Year 50 compounded value is $1173908.53\n",
      "Year 51 compounded value is $1291299.38\n",
      "Year 52 compounded value is $1420429.32\n",
      "Year 53 compounded value is $1562472.25\n",
      "Year 54 compounded value is $1718719.48\n",
      "Year 55 compounded value is $1890591.42\n",
      "Year 56 compounded value is $2079650.57\n",
      "Year 57 compounded value is $2287615.62\n",
      "Year 58 compounded value is $2516377.19\n",
      "Year 59 compounded value is $2768014.90\n",
      "Year 60 compounded value is $3044816.40\n",
      "Year 61 compounded value is $3349298.03\n",
      "Year 62 compounded value is $3684227.84\n",
      "Year 63 compounded value is $4052650.62\n",
      "Year 64 compounded value is $4457915.68\n",
      "Year 65 compounded value is $4903707.25\n",
      "Year 66 compounded value is $5394077.98\n",
      "Year 67 compounded value is $5933485.78\n",
      "Year 68 compounded value is $6526834.35\n",
      "Year 69 compounded value is $7179517.79\n",
      "Year 70 compounded value is $7897469.57\n",
      "Year 71 compounded value is $8687216.52\n",
      "Year 72 compounded value is $9555938.18\n",
      "Year 73 compounded value is $10511532.00\n",
      "Year 74 compounded value is $11562685.19\n",
      "Year 75 compounded value is $12718953.71\n",
      "Year 76 compounded value is $13990849.09\n",
      "Year 77 compounded value is $15389933.99\n",
      "Year 78 compounded value is $16928927.39\n",
      "Year 79 compounded value is $18621820.13\n",
      "Year 80 compounded value is $20484002.15\n",
      "Year 81 compounded value is $22532402.36\n",
      "Year 82 compounded value is $24785642.60\n",
      "Year 83 compounded value is $27264206.86\n",
      "Year 84 compounded value is $29990627.54\n",
      "Year 85 compounded value is $32989690.30\n",
      "Year 86 compounded value is $36288659.33\n",
      "Year 87 compounded value is $39917525.26\n",
      "Year 88 compounded value is $43909277.78\n",
      "Year 89 compounded value is $48300205.56\n",
      "Year 90 compounded value is $53130226.12\n",
      "Year 91 compounded value is $58443248.73\n",
      "Year 92 compounded value is $64287573.60\n",
      "Year 93 compounded value is $70716330.96\n",
      "Year 94 compounded value is $77787964.06\n",
      "Year 95 compounded value is $85566760.47\n",
      "Year 96 compounded value is $94123436.51\n",
      "Year 97 compounded value is $103535780.16\n",
      "Year 98 compounded value is $113889358.18\n",
      "Year 99 compounded value is $125278294.00\n",
      "Year 100 compounded value is $137806123.40\n"
     ]
    }
   ],
   "source": [
    "# Put Program 1 Code Here. Do not create any additional code blocks or points may be deducted. \n",
    "#Grading ID: KP1135(double click the cell in Jupyter to edit)\n",
    "#Due: Friday, February 10 (by 11:59 PM)\n",
    "#Worth: 50 pts.\n",
    "#Purpose: Use a function and repetition control structure to demonstrate compounding interest.\n",
    "\n",
    "def interest_calculator(principal='10000', interest='.09', years='10'): #My function along with the parameters\n",
    "    value = principal # Value is set to equal the principal argument\n",
    "    for i in range(years): # this loop will iterate through years \n",
    "        #On each iteration, value is multiplied by (1 + interest)\n",
    "        value = value * (1 + interest) \n",
    "    return value #returns the compounded value after # of years\n",
    "\n",
    "#input statements to accept inputs from the users \n",
    "principal = float(input(\"Enter the principle balance: \"))\n",
    "interest = float(input(\"Enter the interest rate: \"))\n",
    "years = int(input(\"Enter the number of years: \"))\n",
    "#final for loop that will iterate years starting from 0 and with each loop it will go up one year\n",
    "for i in range(0, years+1): \n",
    "    compound_value = interest_calculator(principal, interest, i) #calling the function \n",
    "    print(\"Year {} compounded value is ${:.2f}\".format(i, compound_value)) #printing out the statement using the iteration and final calculated compounded value "
   ]
  },
  {
   "cell_type": "markdown",
   "metadata": {},
   "source": [
    "### Example Output\n",
    "<div class=\"alert alert-block alert-info\">\n",
    "Enter the principle balance:  14339<br>\n",
    "Enter the interest rate:  .11<br>\n",
    "Enter the number of years:  10<br>\n",
    "Year 1 compounded value is \\$15916.29<br>\n",
    "Year 2 compounded value is \\$17667.08<br>\n",
    "Year 3 compounded value is \\$19610.46<br>\n",
    "Year 4 compounded value is \\$21767.61<br>\n",
    "Year 5 compounded value is \\$24162.05<br>\n",
    "Year 6 compounded value is \\$26819.87<br>\n",
    "Year 7 compounded value is \\$29770.06<br>\n",
    "Year 8 compounded value is \\$33044.77<br>\n",
    "Year 9 compounded value is \\$36679.69<br>\n",
    "Year 10 compounded value is \\$40714.46\n",
    "</div>"
   ]
  },
  {
   "cell_type": "markdown",
   "metadata": {
    "id": "yk3sJ9Znt1Sn"
   },
   "source": [
    "#### Part 2\n",
    "**Answer the following**:\n",
    "\n",
    "How many years of this calculation do you have to use before you first get 50,000, at 10% interest, starting with 10,000?<br />\n",
    "16-50,000\n",
    "\n",
    "25- 100,000?<br />\n",
    "\n",
    "49-1,000,000?<br />\n",
    "\n",
    "\n",
    "Double click the cell in Jupyter to edit (__5 pts.__)\n",
    "\n"
   ]
  },
  {
   "cell_type": "markdown",
   "metadata": {
    "id": "bexgWeCMt1Sn"
   },
   "source": [
    "Be sure to save and exit your Jupyter Notebook and Shutdown Jupyter Lab (from the __File__ menu) before you submit your notebook on Blackboard for grading."
   ]
  }
 ],
 "metadata": {
  "colab": {
   "collapsed_sections": [],
   "provenance": []
  },
  "kernelspec": {
   "display_name": "Python 3 (ipykernel)",
   "language": "python",
   "name": "python3"
  },
  "language_info": {
   "codemirror_mode": {
    "name": "ipython",
    "version": 3
   },
   "file_extension": ".py",
   "mimetype": "text/x-python",
   "name": "python",
   "nbconvert_exporter": "python",
   "pygments_lexer": "ipython3",
   "version": "3.9.13"
  }
 },
 "nbformat": 4,
 "nbformat_minor": 4
}
