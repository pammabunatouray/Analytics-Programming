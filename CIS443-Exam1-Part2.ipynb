{
 "cells": [
  {
   "cell_type": "markdown",
   "metadata": {},
   "source": [
    "# CIS 443 Exam 1, Part 2 Notebook\n",
    "## 35 pts.\n",
    "## Directions\n",
    "1. Add your Grading ID below.\n",
    "1. Answer each question in the cells provided.\n",
    "1. When finished, save your work, close the Jupyter Lab file, and Shut Down Jupyter Lab. You will upload this Jupyter Notebook file as your submission to Question 1 in Exam 1, Part 2 in Blackboard.\n",
    "1. Be sure to keep an unaltered version of this file just in case anything goes wrong in Blackboard.\n",
    "\n",
    "__Grading ID__: ADD HERE (double click the cell in Jupyter to edit)"
   ]
  },
  {
   "cell_type": "markdown",
   "metadata": {},
   "source": [
    "### Problem 1\n",
    "Write a Python code fragment in the code cell below that defines a function named `calc_fuel_eff` that accepts miles travelled (a float) anmd fuel consumed (a float) as parameters and returns the Miles Per Gallon. Test the function with the following inputs: (45.0, 3.0) and (120, 9.5). (__8 pts.__)\n",
    "\n"
   ]
  },
  {
   "cell_type": "code",
   "execution_count": null,
   "metadata": {},
   "outputs": [],
   "source": []
  },
  {
   "cell_type": "markdown",
   "metadata": {},
   "source": [
    "### Problem 2\n",
    "Write a Python code fragment in the code cell below that prints the even numbers (each on a separate line) from 45 - 60 (inclusive). Use whichever loop you prefer. (__4 pts.__)"
   ]
  },
  {
   "cell_type": "code",
   "execution_count": null,
   "metadata": {},
   "outputs": [],
   "source": []
  },
  {
   "cell_type": "markdown",
   "metadata": {},
   "source": [
    "### Problem 3\n",
    "Write a Python code fragment in the code cell below that inputs the year gasoline was manufactured (an integer) and outputs likely safety features using a series of `if` statements. If oven's year is 1974 or earlier, print \"Dangerous.\" If 1975 or later, print \"Probably is unleaded.\" If 1990 or later, print \"Probably contains ethanol.\" If 2000 or later, print \"Probably low sulfur.\" End each phrase with a period and a newline. (__7 pts.__)\n",
    "\n",
    "Sample output for input: 1995\n",
    "\n",
    "`Probably is unleaded.`<br />\n",
    "`Probably contains ethanol.`"
   ]
  },
  {
   "cell_type": "code",
   "execution_count": null,
   "metadata": {},
   "outputs": [],
   "source": []
  },
  {
   "cell_type": "markdown",
   "metadata": {},
   "source": [
    "### Problem 4\n",
    "Write a Python code fragment in the code cell below that defines a function named `exponentiation` that takes two integeres as parameters and returns the first raised to the power of the second. Solve this by using a __for__ loop. This is an example of the accumulator pattern with a running product. Test your function with (5,2) (answer is 25) and (5,5) (answer is 3,125). (__8 pts.__)\n"
   ]
  },
  {
   "cell_type": "code",
   "execution_count": null,
   "metadata": {},
   "outputs": [],
   "source": []
  },
  {
   "cell_type": "markdown",
   "metadata": {},
   "source": [
    "### Problem 5\n",
    "Write a Python code fragment in the code cell below that uses a loop to input 5 costs (float values) and store them in a list. Output the list (on one line) followed by the minimum cost, maximum cost, and average (mean) cost each on a separate line. Format the minimum, maximum, and average costs using an f-string with 2 digits of precision, and a dollar sign. (__8 pts.__)"
   ]
  },
  {
   "cell_type": "code",
   "execution_count": null,
   "metadata": {},
   "outputs": [],
   "source": []
  }
 ],
 "metadata": {
  "kernelspec": {
   "display_name": "Python 3 (ipykernel)",
   "language": "python",
   "name": "python3"
  },
  "language_info": {
   "codemirror_mode": {
    "name": "ipython",
    "version": 3
   },
   "file_extension": ".py",
   "mimetype": "text/x-python",
   "name": "python",
   "nbconvert_exporter": "python",
   "pygments_lexer": "ipython3",
   "version": "3.9.13"
  }
 },
 "nbformat": 4,
 "nbformat_minor": 4
}
