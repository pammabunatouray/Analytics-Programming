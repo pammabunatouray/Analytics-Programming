{
 "cells": [
  {
   "cell_type": "code",
   "execution_count": 2,
   "id": "0c61308f-5716-4c0d-ab76-cf0c907b5d52",
   "metadata": {},
   "outputs": [
    {
     "name": "stdout",
     "output_type": "stream",
     "text": [
      "Overall sentiment agreement: 831 (74.73%) agree, 281 (25.27%) disagree\n",
      "1-star reviews: 38 (34.23%) agree, 73 (65.77%) disagree\n",
      "2-star reviews: 7 (12.73%) agree, 48 (87.27%) disagree\n",
      "3-star reviews: 15 (17.65%) agree, 70 (82.35%) disagree\n",
      "4-star reviews: 125 (85.62%) agree, 21 (14.38%) disagree\n",
      "5-star reviews: 646 (90.35%) agree, 69 (9.65%) disagree\n"
     ]
    }
   ],
   "source": [
    "import pandas as pd\n",
    "from textblob import TextBlob\n",
    "\n",
    "# Load the data into a Pandas dataframe\n",
    "df = pd.read_csv(\"AmazonFineFoods.csv\", encoding='latin-1')\n",
    "\n",
    "# Define a function to classify the sentiment of the star rating\n",
    "def classify_sentiment(score):\n",
    "    if score >= 4:\n",
    "        return 'positive'\n",
    "    elif score == 3:\n",
    "        return 'neutral'\n",
    "    else:\n",
    "        return 'negative'\n",
    "\n",
    "# Add a new column to the dataframe with the sentiment classification\n",
    "df['star_sentiment'] = df['Score'].apply(classify_sentiment)\n",
    "\n",
    "# Define a function to classify the sentiment polarity of the review text\n",
    "def classify_polarity(review_text):\n",
    "    tb = TextBlob(review_text)\n",
    "    polarity = tb.sentiment.polarity\n",
    "    if polarity < -0.05:\n",
    "        return 'negative'\n",
    "    elif polarity > 0.05:\n",
    "        return 'positive'\n",
    "    else:\n",
    "        return 'neutral'\n",
    "\n",
    "# Add a new column to the dataframe with the sentiment polarity classification\n",
    "df['text_sentiment'] = df['ReviewText'].apply(classify_polarity)\n",
    "\n",
    "# Define a function to determine whether the star rating's sentiment agrees with the text sentiment\n",
    "def sentiment_agreement(row):\n",
    "    if row['star_sentiment'] == row['text_sentiment']:\n",
    "        return True\n",
    "    else:\n",
    "        return False\n",
    "\n",
    "# Add a new column to the dataframe with the sentiment agreement classification\n",
    "df['sentiment_agreement'] = df.apply(sentiment_agreement, axis=1)\n",
    "\n",
    "# Output a table summarizing the overall sentiment agreement of the reviews\n",
    "total_count = len(df)\n",
    "agree_count = len(df[df['sentiment_agreement'] == True])\n",
    "disagree_count = len(df[df['sentiment_agreement'] == False])\n",
    "print(f\"Overall sentiment agreement: {agree_count} ({agree_count/total_count*100:.2f}%) agree, {disagree_count} ({disagree_count/total_count*100:.2f}%) disagree\")\n",
    "\n",
    "# Output a table summarizing the sentiment agreement for the reviews by star rating\n",
    "for i in range(1,6):\n",
    "    subset = df[df['Score'] == i]\n",
    "    total_count = len(subset)\n",
    "    agree_count = len(subset[subset['sentiment_agreement'] == True])\n",
    "    disagree_count = len(subset[subset['sentiment_agreement'] == False])\n",
    "    print(f\"{i}-star reviews: {agree_count} ({agree_count/total_count*100:.2f}%) agree, {disagree_count} ({disagree_count/total_count*100:.2f}%) disagree\")\n",
    "\n",
    "\n"
   ]
  },
  {
   "cell_type": "code",
   "execution_count": null,
   "id": "4b033824-4d9f-4d6e-afde-642153468024",
   "metadata": {},
   "outputs": [],
   "source": []
  }
 ],
 "metadata": {
  "kernelspec": {
   "display_name": "Python 3 (ipykernel)",
   "language": "python",
   "name": "python3"
  },
  "language_info": {
   "codemirror_mode": {
    "name": "ipython",
    "version": 3
   },
   "file_extension": ".py",
   "mimetype": "text/x-python",
   "name": "python",
   "nbconvert_exporter": "python",
   "pygments_lexer": "ipython3",
   "version": "3.9.13"
  }
 },
 "nbformat": 4,
 "nbformat_minor": 5
}
